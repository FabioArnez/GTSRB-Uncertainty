{
 "cells": [
  {
   "cell_type": "markdown",
   "metadata": {},
   "source": [
    "# German Traffic Sign Recognition Benchmark - DNN Uncertainty"
   ]
  },
  {
   "cell_type": "markdown",
   "metadata": {},
   "source": [
    "Disclaimer:\n",
    "\n",
    "- Based on the code from: https://github.com/abursuc/dldiy-gtsr\n",
    "- Dataset GTSRB pre-processed, images size: 32x32x3 RGB image"
   ]
  },
  {
   "cell_type": "markdown",
   "metadata": {},
   "source": [
    "## General imports"
   ]
  },
  {
   "cell_type": "code",
   "execution_count": 70,
   "metadata": {
    "ExecuteTime": {
     "end_time": "2020-09-21T09:47:33.427518Z",
     "start_time": "2020-09-21T09:47:33.423129Z"
    }
   },
   "outputs": [],
   "source": [
    "import time\n",
    "import os\n",
    "import numpy as np\n",
    "import torch\n",
    "from PIL import Image\n",
    "import imageio\n",
    "\n",
    "import torch.nn as nn\n",
    "import torch.nn.functional as F\n",
    "\n",
    "from torchsummary import summary\n",
    "\n",
    "\n",
    "import matplotlib.pyplot as plt\n",
    "%matplotlib inline"
   ]
  },
  {
   "cell_type": "markdown",
   "metadata": {},
   "source": [
    "## Custom Dataset"
   ]
  },
  {
   "cell_type": "code",
   "execution_count": 71,
   "metadata": {
    "ExecuteTime": {
     "end_time": "2020-09-21T09:47:35.231562Z",
     "start_time": "2020-09-21T09:47:35.215707Z"
    }
   },
   "outputs": [],
   "source": [
    "import os\n",
    "import PIL as Image\n",
    "import numpy as np\n",
    "import torch\n",
    "\n",
    "import torchvision.transforms as transforms\n",
    "\n",
    "idx2label = {\n",
    "    0: 'Speed limit (20km/h)',\n",
    "    1: 'Speed limit (30km/h)',\n",
    "    2: 'Speed limit (50km/h)',\n",
    "    3: 'Speed limit (60km/h)',\n",
    "    4: 'Speed limit (70km/h)',\n",
    "    5: 'Speed limit (80km/h)',\n",
    "    6: 'End of speed limit (80km/h)',\n",
    "    7: 'Speed limit (100km/h)',\n",
    "    8: 'Speed limit (120km/h)',\n",
    "    9: 'No passing',\n",
    "    10: 'No passing for vehicles over 3.5 metric tons',\n",
    "    11: 'Right-of-way at the next intersection',\n",
    "    12: 'Priority road',\n",
    "    13: 'Yield',\n",
    "    14: 'Stop',\n",
    "    15: 'No vehicles',\n",
    "    16: 'Vehicles over 3.5 metric tons prohibited',\n",
    "    17: 'No entry',\n",
    "    18: 'General caution',\n",
    "    19: 'Dangerous curve to the left',\n",
    "    20: 'Dangerous curve to the right',\n",
    "    21: 'Double curve',\n",
    "    22: 'Bumpy road',\n",
    "    23: 'Slippery road',\n",
    "    24: 'Road narrows on the right',\n",
    "    25: 'Road work',\n",
    "    26: 'Traffic signals',\n",
    "    27: 'Pedestrians',\n",
    "    28: 'Children crossing',\n",
    "    29: 'Bicycles crossing',\n",
    "    30: 'Beware of ice/snow',\n",
    "    31: 'Wild animals crossing',\n",
    "    32: 'End of all speed and passing limits',\n",
    "    33: 'Turn right ahead',\n",
    "    34: 'Turn left ahead',\n",
    "    35: 'Ahead only',\n",
    "    36: 'Go straight or right',\n",
    "    37: 'Go straight or left',\n",
    "    38: 'Keep right',\n",
    "    39: 'Keep left',\n",
    "    40: 'Roundabout mandatory',\n",
    "    41: 'End of no passing',\n",
    "    42: 'End of no passing by vehicles over 3.5 metric tons'\n",
    "}\n",
    "\n",
    "classnames = ['Speed limit (20km/h)', 'Speed limit (30km/h)', 'Speed limit (50km/h)', 'Speed limit (60km/h)', 'Speed limit (70km/h)', 'Speed limit (80km/h)', 'End of speed limit (80km/h)', 'Speed limit (100km/h)', 'Speed limit (120km/h)', 'No passing', 'No passing for vehicles over 3.5 metric tons', 'Right-of-way at the next intersection', 'Priority road', 'Yield', 'Stop', 'No vehicles', 'Vehicles over 3.5 metric tons prohibited', 'No entry', 'General caution', 'Dangerous curve to the left', 'Dangerous curve to the right', 'Double curve', 'Bumpy road', 'Slippery road', 'Road narrows on the right', 'Road work', 'Traffic signals', 'Pedestrians', 'Children crossing', 'Bicycles crossing', 'Beware of ice/snow', 'Wild animals crossing', 'End of all speed and passing limits', 'Turn right ahead', 'Turn left ahead', 'Ahead only', 'Go straight or right', 'Go straight or left', 'Keep right', 'Keep left', 'Roundabout mandatory', 'End of no passing', 'End of no passing by vehicles over 3.5 metric tons']\n",
    "\n",
    "\n",
    "\n",
    "class GTSRBLoader(torch.utils.data.Dataset):\n",
    "\n",
    "    def __init__(self, data_dir, split, custom_transforms=None, list_dir=None,\n",
    "                 out_name=False,  crop_size=None, num_classes=43, phase=None):\n",
    "\n",
    "        self.data_dir = data_dir\n",
    "        self.split = split\n",
    "        self.phase = split if phase is None else phase\n",
    "        self.crop_size = 32 if crop_size is None else crop_size\n",
    "        self.out_name = out_name\n",
    "        self.idx2label = idx2label\n",
    "        self.classnames = classnames\n",
    "\n",
    "        self.num_classes = num_classes\n",
    "        self.mean = np.array([0.3337, 0.3064, 0.3171])\n",
    "        self.std = np.array([0.2672, 0.2564, 0.2629])\n",
    "        self.image_list, self.label_list = None, None\n",
    "        self.read_lists()\n",
    "        self.transforms = self.get_transforms(custom_transforms)\n",
    "\n",
    "\n",
    "    def __getitem__(self, index):\n",
    "        im = Image.open(f'{self.data_dir}/{self.image_list[index]}')\n",
    "        data = [self.transforms(im)]\n",
    "        data.append(self.label_list[index])\n",
    "        if self.out_name:\n",
    "            data.append(self.image_list[index])\n",
    "        return tuple(data)\n",
    "\n",
    "    def __len__(self):\n",
    "        return len(self.image_list)\n",
    "\n",
    "    def get_transforms(self, custom_transforms):\n",
    "        if custom_transforms:\n",
    "            return custom_transforms\n",
    "\n",
    "        if 'train' == self.phase:\n",
    "            return transforms.Compose([\n",
    "                transforms.Resize((self.crop_size, self.crop_size)),\n",
    "                transforms.ColorJitter(brightness=0.4, contrast=0.4, saturation=0.4, hue=0),\n",
    "                transforms.ToTensor(),\n",
    "                transforms.Normalize(mean=self.mean, std=self.std),\n",
    "            ])\n",
    "        else:\n",
    "            return transforms.Compose([\n",
    "                transforms.Resize((self.crop_size, self.crop_size)),\n",
    "                transforms.ToTensor(),\n",
    "                transforms.Normalize(mean=self.mean, std=self.std),\n",
    "            ])\n",
    "\n",
    "\n",
    "    def read_lists(self):\n",
    "        image_path = os.path.join(self.data_dir, self.split + '_images.txt')\n",
    "        assert os.path.exists(image_path)\n",
    "        self.image_list = [line.strip().split()[0] for line in open(image_path, 'r')]\n",
    "        self.label_list = [int(line.strip().split()[1]) for line in open(image_path, 'r')]\n",
    "        assert len(self.image_list) == len(self.label_list)\n",
    "\n",
    "\n",
    "    # get raw image prior to normalization\n",
    "    # expects input image as torch Tensor\n",
    "    def unprocess_image(self, im, plot=False):\n",
    "        im = im.squeeze().numpy().transpose((1, 2, 0))\n",
    "        im = self.std * im + self.mean\n",
    "        im = np.clip(im, 0, 1)\n",
    "        im = im * 255\n",
    "        im = Image.fromarray(im.astype(np.uint8))\n",
    "\n",
    "        if plot:\n",
    "            plt.imshow(im)\n",
    "            plt.show()\n",
    "        else:\n",
    "            return im\n",
    "\n",
    "    # de-center images and bring them back to their raw state\n",
    "    def unprocess_batch(self, input):\n",
    "        for i in range(input.size(1)):\n",
    "            input[:,i,:,:] = self.std[i] * input[:,i,:,:]\n",
    "            input[:,i,:,:] = input[:,i,:,:] + self.mean[i]\n",
    "            input[:,i,:,:] = np.clip(input[:,i,:,:], 0, 1)\n",
    "\n",
    "        return input\n"
   ]
  },
  {
   "cell_type": "markdown",
   "metadata": {},
   "source": [
    "## Helper Functions"
   ]
  },
  {
   "cell_type": "markdown",
   "metadata": {},
   "source": [
    "__Helper funtion to show unnormalized sample images__"
   ]
  },
  {
   "cell_type": "code",
   "execution_count": 72,
   "metadata": {
    "ExecuteTime": {
     "end_time": "2020-09-21T09:47:36.329590Z",
     "start_time": "2020-09-21T09:47:36.326879Z"
    }
   },
   "outputs": [],
   "source": [
    "def showImage(img, title=None):\n",
    "    mean = np.array([0.3337, 0.3064, 0.3171])\n",
    "    std = np.array([0.2672, 0.2564, 0.2629])\n",
    "    img = std * img + mean\n",
    "    img = np.clip(img, 0, 1)\n",
    "    plt.imshow(img)\n"
   ]
  },
  {
   "cell_type": "markdown",
   "metadata": {},
   "source": [
    "## Models"
   ]
  },
  {
   "cell_type": "markdown",
   "metadata": {},
   "source": [
    "### LeNet-5"
   ]
  },
  {
   "cell_type": "code",
   "execution_count": 104,
   "metadata": {
    "ExecuteTime": {
     "end_time": "2020-09-21T09:54:09.436963Z",
     "start_time": "2020-09-21T09:54:09.427448Z"
    }
   },
   "outputs": [],
   "source": [
    "import torch.nn as nn\n",
    "import torch.nn.functional as F\n",
    "\n",
    "\n",
    "class LeNet(nn.Module):\n",
    "    def __init__(self, num_classes=43, input_channels=3):\n",
    "\n",
    "        super(LeNet, self).__init__()\n",
    "\n",
    "        self.conv1 = nn.Conv2d(input_channels, 6, 5)\n",
    "        self.conv2 = nn.Conv2d(6, 16, 5)\n",
    "        self.fc1   = nn.Linear((16 * 5 * 5), 120)\n",
    "        self.fc2   = nn.Linear(120, 84)\n",
    "        self.fc3   = nn.Linear(84, num_classes)\n",
    "\n",
    "        if 1 == num_classes:\n",
    "            # compatible with nn.BCELoss\n",
    "            self.softmax = nn.Sigmoid()\n",
    "        else:\n",
    "            # compatible with nn.CrossEntropyLoss\n",
    "            self.softmax = nn.LogSoftmax(dim=1)\n",
    "\n",
    "    def forward(self, x):\n",
    "        out = F.relu(self.conv1(x))\n",
    "        out = F.max_pool2d(out, 2)\n",
    "        out = F.relu(self.conv2(out))\n",
    "        out = F.max_pool2d(out, 2)\n",
    "        out = out.view(out.size(0), -1)\n",
    "        out = F.relu(self.fc1(out))\n",
    "        out = F.relu(self.fc2(out))\n",
    "        out = self.fc3(out)\n",
    "\n",
    "        out = self.softmax(out)\n",
    "        return out\n",
    "\n",
    "\n",
    "def lenet5(**kwargs):\n",
    "    model = LeNet(**kwargs)\n",
    "    return model\n",
    "\n",
    "\n",
    "def lenet(model_name, num_classes, input_channels, pretrained=False):\n",
    "    return{\n",
    "        'lenet5': lenet5(num_classes=num_classes, input_channels=input_channels),\n",
    "    }[model_name]\n"
   ]
  },
  {
   "cell_type": "markdown",
   "metadata": {},
   "source": [
    "### LeNet-5 with Dropout"
   ]
  },
  {
   "cell_type": "code",
   "execution_count": 94,
   "metadata": {
    "ExecuteTime": {
     "end_time": "2020-09-21T09:52:30.574275Z",
     "start_time": "2020-09-21T09:52:30.567714Z"
    }
   },
   "outputs": [],
   "source": [
    "import torch.nn as nn\n",
    "import torch.nn.functional as F\n",
    "\n",
    "\n",
    "class LeNetDropout(nn.Module):\n",
    "    def __init__(self, num_classes=43, input_channels=3):\n",
    "\n",
    "        super(LeNetDropout, self).__init__()\n",
    "\n",
    "        self.conv1 = nn.Conv2d(input_channels, 6, 5)\n",
    "        self.conv2 = nn.Conv2d(6, 16, 5)\n",
    "        self.fc1   = nn.Linear((16 * 5 * 5), 120)\n",
    "        self.fc2   = nn.Linear(120, 84)\n",
    "        self.fc3   = nn.Linear(84, num_classes)\n",
    "        \n",
    "        self.dropout_05 = nn.Dropout(p=0.5)\n",
    "        self.dropout_025 = nn.Dropout(p=0.25)\n",
    "\n",
    "        if 1 == num_classes:\n",
    "            # compatible with nn.BCELoss\n",
    "            self.softmax = nn.Sigmoid()\n",
    "        else:\n",
    "            # compatible with nn.CrossEntropyLoss\n",
    "            self.softmax = nn.LogSoftmax(dim=1)\n",
    "\n",
    "    def forward(self, x):\n",
    "        out = F.relu(self.conv1(x))\n",
    "        out = F.max_pool2d(out, 2)\n",
    "        \n",
    "        out = F.relu(self.conv2(out))\n",
    "        out = F.max_pool2d(out, 2)\n",
    "        \n",
    "        out = out.view(out.size(0), -1)\n",
    "        \n",
    "        out = F.relu(self.fc1(out))\n",
    "        out = self.dropout_05(out)\n",
    "        \n",
    "        out = F.relu(self.fc2(out))\n",
    "        out = self.dropout_025(out)\n",
    "        \n",
    "        out = self.fc3(out)\n",
    "\n",
    "        out = self.softmax(out)\n",
    "        return out\n"
   ]
  },
  {
   "cell_type": "markdown",
   "metadata": {},
   "source": [
    "## Build Dataloaders"
   ]
  },
  {
   "cell_type": "code",
   "execution_count": 75,
   "metadata": {
    "ExecuteTime": {
     "end_time": "2020-09-21T09:50:35.298130Z",
     "start_time": "2020-09-21T09:50:35.295825Z"
    }
   },
   "outputs": [],
   "source": [
    "from PIL import Image\n",
    "import imageio"
   ]
  },
  {
   "cell_type": "code",
   "execution_count": 76,
   "metadata": {
    "ExecuteTime": {
     "end_time": "2020-09-21T09:50:35.689358Z",
     "start_time": "2020-09-21T09:50:35.650211Z"
    }
   },
   "outputs": [],
   "source": [
    "dataset_train = GTSRBLoader('../data/gtsrb-data', split='train', phase='train',\n",
    "                            num_classes=43, crop_size=32)"
   ]
  },
  {
   "cell_type": "code",
   "execution_count": 77,
   "metadata": {
    "ExecuteTime": {
     "end_time": "2020-09-21T09:50:36.002019Z",
     "start_time": "2020-09-21T09:50:35.996238Z"
    }
   },
   "outputs": [
    {
     "data": {
      "text/plain": [
       "35600"
      ]
     },
     "execution_count": 77,
     "metadata": {},
     "output_type": "execute_result"
    }
   ],
   "source": [
    "len(dataset_train)"
   ]
  },
  {
   "cell_type": "code",
   "execution_count": 78,
   "metadata": {
    "ExecuteTime": {
     "end_time": "2020-09-21T09:50:36.139015Z",
     "start_time": "2020-09-21T09:50:36.129995Z"
    }
   },
   "outputs": [],
   "source": [
    "dataset_val = GTSRBLoader('../data/gtsrb-data', split='val', phase='test',\n",
    "                            num_classes=43, crop_size=32)"
   ]
  },
  {
   "cell_type": "code",
   "execution_count": 79,
   "metadata": {
    "ExecuteTime": {
     "end_time": "2020-09-21T09:50:36.562154Z",
     "start_time": "2020-09-21T09:50:36.558184Z"
    }
   },
   "outputs": [
    {
     "data": {
      "text/plain": [
       "3609"
      ]
     },
     "execution_count": 79,
     "metadata": {},
     "output_type": "execute_result"
    }
   ],
   "source": [
    "len(dataset_val)"
   ]
  },
  {
   "cell_type": "code",
   "execution_count": 80,
   "metadata": {
    "ExecuteTime": {
     "end_time": "2020-09-21T09:50:37.019363Z",
     "start_time": "2020-09-21T09:50:37.013354Z"
    }
   },
   "outputs": [],
   "source": [
    "dataset_test = GTSRBLoader('../data/gtsrb-data', split='test', phase='test',\n",
    "                            num_classes=43, crop_size=32)"
   ]
  },
  {
   "cell_type": "code",
   "execution_count": 81,
   "metadata": {
    "ExecuteTime": {
     "end_time": "2020-09-21T09:50:37.578688Z",
     "start_time": "2020-09-21T09:50:37.566604Z"
    }
   },
   "outputs": [
    {
     "data": {
      "text/plain": [
       "1273"
      ]
     },
     "execution_count": 81,
     "metadata": {},
     "output_type": "execute_result"
    }
   ],
   "source": [
    "len(dataset_test)"
   ]
  },
  {
   "cell_type": "code",
   "execution_count": 82,
   "metadata": {
    "ExecuteTime": {
     "end_time": "2020-09-21T09:50:38.056415Z",
     "start_time": "2020-09-21T09:50:38.051879Z"
    }
   },
   "outputs": [],
   "source": [
    "train_loader = torch.utils.data.DataLoader(dataset_train,\n",
    "                                           batch_size=128,\n",
    "                                           shuffle=True,\n",
    "                                           num_workers=8,\n",
    "                                           pin_memory=True)\n",
    "\n",
    "validation_loader = torch.utils.data.DataLoader(dataset_train,\n",
    "                                           batch_size=128,\n",
    "                                           shuffle=False,\n",
    "                                           num_workers=8,\n",
    "                                           pin_memory=True)\n",
    "\n",
    "test_loader = torch.utils.data.DataLoader(dataset_train,\n",
    "                                           batch_size=128,\n",
    "                                           shuffle=True,\n",
    "                                           num_workers=8,\n",
    "                                           pin_memory=True)"
   ]
  },
  {
   "cell_type": "markdown",
   "metadata": {},
   "source": [
    "### Sample train loader"
   ]
  },
  {
   "cell_type": "code",
   "execution_count": 83,
   "metadata": {
    "ExecuteTime": {
     "end_time": "2020-09-21T09:50:39.196871Z",
     "start_time": "2020-09-21T09:50:39.004360Z"
    }
   },
   "outputs": [],
   "source": [
    "batch_iter = iter(train_loader)\n",
    "images_batch, labels_batch = batch_iter.next()\n",
    "image = images_batch[0]"
   ]
  },
  {
   "cell_type": "markdown",
   "metadata": {},
   "source": [
    "Convert to numpy and Check the shape of the array, it should be (channels, height, width)"
   ]
  },
  {
   "cell_type": "code",
   "execution_count": 84,
   "metadata": {
    "ExecuteTime": {
     "end_time": "2020-09-21T09:50:40.234715Z",
     "start_time": "2020-09-21T09:50:40.231672Z"
    }
   },
   "outputs": [
    {
     "data": {
      "text/plain": [
       "(3, 32, 32)"
      ]
     },
     "execution_count": 84,
     "metadata": {},
     "output_type": "execute_result"
    }
   ],
   "source": [
    "image = image.numpy()\n",
    "image.shape"
   ]
  },
  {
   "cell_type": "markdown",
   "metadata": {},
   "source": [
    "Reshape image to (height, width, channels):"
   ]
  },
  {
   "cell_type": "code",
   "execution_count": 85,
   "metadata": {
    "ExecuteTime": {
     "end_time": "2020-09-21T09:50:40.940751Z",
     "start_time": "2020-09-21T09:50:40.934661Z"
    }
   },
   "outputs": [
    {
     "data": {
      "text/plain": [
       "(32, 32, 3)"
      ]
     },
     "execution_count": 85,
     "metadata": {},
     "output_type": "execute_result"
    }
   ],
   "source": [
    "image_reshaped = np.rollaxis(image,0,3)\n",
    "image_reshaped.shape"
   ]
  },
  {
   "cell_type": "code",
   "execution_count": 86,
   "metadata": {
    "ExecuteTime": {
     "end_time": "2020-09-21T09:50:41.499584Z",
     "start_time": "2020-09-21T09:50:41.396304Z"
    }
   },
   "outputs": [
    {
     "name": "stderr",
     "output_type": "stream",
     "text": [
      "Clipping input data to the valid range for imshow with RGB data ([0..1] for floats or [0..255] for integers).\n"
     ]
    },
    {
     "data": {
      "image/png": "[encoded data removed]",
      "text/plain": [
       "<Figure size 432x288 with 1 Axes>"
      ]
     },
     "metadata": {
      "needs_background": "light"
     },
     "output_type": "display_data"
    }
   ],
   "source": [
    "img = np.array(image_reshaped)\n",
    "\n",
    "plt.imshow(img)\n",
    "plt.show()"
   ]
  },
  {
   "cell_type": "markdown",
   "metadata": {},
   "source": [
    "## Trainer & Test - LeNet Model"
   ]
  },
  {
   "cell_type": "markdown",
   "metadata": {},
   "source": [
    "### Training settings"
   ]
  },
  {
   "cell_type": "code",
   "execution_count": 100,
   "metadata": {
    "ExecuteTime": {
     "end_time": "2020-09-21T09:53:56.644977Z",
     "start_time": "2020-09-21T09:53:56.642736Z"
    }
   },
   "outputs": [],
   "source": [
    "epochs = 20\n",
    "learning_rate = 0.001"
   ]
  },
  {
   "cell_type": "markdown",
   "metadata": {},
   "source": [
    "### Check GPU availability"
   ]
  },
  {
   "cell_type": "code",
   "execution_count": 101,
   "metadata": {
    "ExecuteTime": {
     "end_time": "2020-09-21T09:53:57.317494Z",
     "start_time": "2020-09-21T09:53:57.313861Z"
    }
   },
   "outputs": [
    {
     "name": "stdout",
     "output_type": "stream",
     "text": [
      "CUDA will be used for training/testing\n"
     ]
    }
   ],
   "source": [
    "device = torch.device('cuda' if torch.cuda.is_available() else 'cpu')\n",
    "\n",
    "if device.type == \"cuda\":\n",
    "    device_name = \"CUDA\"\n",
    "else:\n",
    "    device_name = \"CPU\"\n",
    "\n",
    "print(\"% s will be used for training/testing\" % device_name)"
   ]
  },
  {
   "cell_type": "markdown",
   "metadata": {},
   "source": [
    "### Model Instance"
   ]
  },
  {
   "cell_type": "code",
   "execution_count": 111,
   "metadata": {
    "ExecuteTime": {
     "end_time": "2020-09-21T09:56:14.848936Z",
     "start_time": "2020-09-21T09:56:14.833216Z"
    }
   },
   "outputs": [
    {
     "name": "stdout",
     "output_type": "stream",
     "text": [
      "LeNetDropout(\n",
      "  (conv1): Conv2d(3, 6, kernel_size=(5, 5), stride=(1, 1))\n",
      "  (conv2): Conv2d(6, 16, kernel_size=(5, 5), stride=(1, 1))\n",
      "  (fc1): Linear(in_features=400, out_features=120, bias=True)\n",
      "  (fc2): Linear(in_features=120, out_features=84, bias=True)\n",
      "  (fc3): Linear(in_features=84, out_features=43, bias=True)\n",
      "  (dropout_05): Dropout(p=0.5, inplace=False)\n",
      "  (dropout_025): Dropout(p=0.25, inplace=False)\n",
      "  (softmax): LogSoftmax()\n",
      ")\n"
     ]
    }
   ],
   "source": [
    "# model = LeNet()\n",
    "model = LeNetDropout()\n",
    "print(model)"
   ]
  },
  {
   "cell_type": "markdown",
   "metadata": {},
   "source": [
    "### Criterion"
   ]
  },
  {
   "cell_type": "markdown",
   "metadata": {},
   "source": [
    "Use Negative LogLikelihood"
   ]
  },
  {
   "cell_type": "code",
   "execution_count": 112,
   "metadata": {
    "ExecuteTime": {
     "end_time": "2020-09-21T09:56:20.011942Z",
     "start_time": "2020-09-21T09:56:20.009512Z"
    }
   },
   "outputs": [],
   "source": [
    "criterion = nn.NLLLoss()"
   ]
  },
  {
   "cell_type": "markdown",
   "metadata": {},
   "source": [
    "### Optimazer"
   ]
  },
  {
   "cell_type": "code",
   "execution_count": 113,
   "metadata": {
    "ExecuteTime": {
     "end_time": "2020-09-21T09:56:20.373252Z",
     "start_time": "2020-09-21T09:56:20.369706Z"
    }
   },
   "outputs": [],
   "source": [
    "optimizer = torch.optim.Adam(model.parameters(),\n",
    "                            lr=learning_rate,\n",
    "                            amsgrad=False)"
   ]
  },
  {
   "cell_type": "markdown",
   "metadata": {},
   "source": [
    "### Training & Validation loop"
   ]
  },
  {
   "cell_type": "code",
   "execution_count": 114,
   "metadata": {
    "ExecuteTime": {
     "end_time": "2020-09-21T09:58:17.764258Z",
     "start_time": "2020-09-21T09:56:21.417443Z"
    }
   },
   "outputs": [
    {
     "name": "stdout",
     "output_type": "stream",
     "text": [
      "Epoch: 1 \tTraining Loss: 2.554163 \tValidation Loss: 1.119072\n",
      "Validation loss decreased (inf --> 1.119072).  Saving model ...\n",
      "Epoch: 2 \tTraining Loss: 1.116921 \tValidation Loss: 0.574079\n",
      "Validation loss decreased (1.119072 --> 0.574079).  Saving model ...\n",
      "Epoch: 3 \tTraining Loss: 0.768853 \tValidation Loss: 0.383347\n",
      "Validation loss decreased (0.574079 --> 0.383347).  Saving model ...\n",
      "Epoch: 4 \tTraining Loss: 0.589621 \tValidation Loss: 0.262288\n",
      "Validation loss decreased (0.383347 --> 0.262288).  Saving model ...\n",
      "Epoch: 5 \tTraining Loss: 0.490676 \tValidation Loss: 0.224666\n",
      "Validation loss decreased (0.262288 --> 0.224666).  Saving model ...\n",
      "Epoch: 6 \tTraining Loss: 0.424278 \tValidation Loss: 0.183093\n",
      "Validation loss decreased (0.224666 --> 0.183093).  Saving model ...\n",
      "Epoch: 7 \tTraining Loss: 0.378027 \tValidation Loss: 0.140883\n",
      "Validation loss decreased (0.183093 --> 0.140883).  Saving model ...\n",
      "Epoch: 8 \tTraining Loss: 0.332458 \tValidation Loss: 0.114252\n",
      "Validation loss decreased (0.140883 --> 0.114252).  Saving model ...\n",
      "Epoch: 9 \tTraining Loss: 0.310714 \tValidation Loss: 0.109159\n",
      "Validation loss decreased (0.114252 --> 0.109159).  Saving model ...\n",
      "Epoch: 10 \tTraining Loss: 0.280636 \tValidation Loss: 0.092100\n",
      "Validation loss decreased (0.109159 --> 0.092100).  Saving model ...\n",
      "Epoch: 11 \tTraining Loss: 0.271776 \tValidation Loss: 0.081148\n",
      "Validation loss decreased (0.092100 --> 0.081148).  Saving model ...\n",
      "Epoch: 12 \tTraining Loss: 0.238769 \tValidation Loss: 0.072933\n",
      "Validation loss decreased (0.081148 --> 0.072933).  Saving model ...\n",
      "Epoch: 13 \tTraining Loss: 0.224381 \tValidation Loss: 0.067920\n",
      "Validation loss decreased (0.072933 --> 0.067920).  Saving model ...\n",
      "Epoch: 14 \tTraining Loss: 0.229776 \tValidation Loss: 0.062138\n",
      "Validation loss decreased (0.067920 --> 0.062138).  Saving model ...\n",
      "Epoch: 15 \tTraining Loss: 0.203765 \tValidation Loss: 0.054961\n",
      "Validation loss decreased (0.062138 --> 0.054961).  Saving model ...\n",
      "Epoch: 16 \tTraining Loss: 0.205838 \tValidation Loss: 0.055126\n",
      "Epoch: 17 \tTraining Loss: 0.192524 \tValidation Loss: 0.046791\n",
      "Validation loss decreased (0.054961 --> 0.046791).  Saving model ...\n",
      "Epoch: 18 \tTraining Loss: 0.185712 \tValidation Loss: 0.044632\n",
      "Validation loss decreased (0.046791 --> 0.044632).  Saving model ...\n",
      "Epoch: 19 \tTraining Loss: 0.180771 \tValidation Loss: 0.042887\n",
      "Validation loss decreased (0.044632 --> 0.042887).  Saving model ...\n",
      "Epoch: 20 \tTraining Loss: 0.171646 \tValidation Loss: 0.038168\n",
      "Validation loss decreased (0.042887 --> 0.038168).  Saving model ...\n"
     ]
    }
   ],
   "source": [
    "# initialize tracker for minimum validation loss\n",
    "valid_loss_min = np.Inf # set initial \"min\" to infinity\n",
    "\n",
    "epoch_avg_train_losses = []\n",
    "epoch_avg_eval_losses = []\n",
    "\n",
    "for epoch in range(epochs):\n",
    "    # monitor training loss\n",
    "    train_loss = 0.0\n",
    "    valid_loss = 0.0\n",
    "    \n",
    "    ###################\n",
    "    # train the model #\n",
    "    ###################\n",
    "    model.to(device)\n",
    "    model.train() # prep model for training\n",
    "    \n",
    "    for data, target in train_loader:\n",
    "        data = data.to(device)\n",
    "        target = target.to(device)\n",
    "        # clear the gradients of all optimized variables\n",
    "        optimizer.zero_grad()\n",
    "        # forward pass: compute predicted outputs by passing inputs to the model\n",
    "        output = model(data)\n",
    "        # calculate the loss\n",
    "        loss = criterion(output, target)\n",
    "        # backward pass: compute gradient of the loss with respect to model parameters\n",
    "        loss.backward()\n",
    "        # perform a single optimization step (parameter update)\n",
    "        optimizer.step()\n",
    "        # update running training loss\n",
    "        train_loss += loss.item()*data.size(0)\n",
    "        \n",
    "    ######################    \n",
    "    # validate the model #\n",
    "    ######################\n",
    "    model.to(device)\n",
    "    model.eval() # prepare model for evaluation\n",
    "    \n",
    "    with torch.no_grad():\n",
    "        for data, target in validation_loader:\n",
    "            data = data.to(device)\n",
    "            target = target.to(device)\n",
    "            # forward pass: compute predicted outputs by passing inputs to the model\n",
    "            output = model(data)\n",
    "            # calculate the loss\n",
    "            loss = criterion(output, target)\n",
    "            # update running validation loss \n",
    "            valid_loss += loss.item()*data.size(0)\n",
    "        \n",
    "    # print training/validation statistics \n",
    "    # calculate average loss over an epoch\n",
    "    train_loss = train_loss/len(train_loader.sampler)\n",
    "    valid_loss = valid_loss/len(validation_loader.sampler)\n",
    "    \n",
    "    # append epoch average losses\n",
    "    epoch_avg_train_losses.append(train_loss)\n",
    "    epoch_avg_eval_losses.append(valid_loss)\n",
    "    \n",
    "    print('Epoch: {} \\tTraining Loss: {:.6f} \\tValidation Loss: {:.6f}'.format(\n",
    "        epoch+1, \n",
    "        train_loss,\n",
    "        valid_loss\n",
    "        ))\n",
    "    \n",
    "    # save model if validation loss has decreased\n",
    "    if valid_loss <= valid_loss_min:\n",
    "        print('Validation loss decreased ({:.6f} --> {:.6f}).  Saving model ...'.format(\n",
    "        valid_loss_min,\n",
    "        valid_loss))\n",
    "        torch.save(model.state_dict(), 'model.pt')\n",
    "        valid_loss_min = valid_loss"
   ]
  },
  {
   "cell_type": "code",
   "execution_count": 115,
   "metadata": {
    "ExecuteTime": {
     "end_time": "2020-09-21T09:58:31.529484Z",
     "start_time": "2020-09-21T09:58:31.525805Z"
    }
   },
   "outputs": [],
   "source": [
    "%matplotlib inline\n",
    "import matplotlib.pyplot as plt"
   ]
  },
  {
   "cell_type": "code",
   "execution_count": 116,
   "metadata": {
    "ExecuteTime": {
     "end_time": "2020-09-21T09:58:32.006341Z",
     "start_time": "2020-09-21T09:58:31.890165Z"
    }
   },
   "outputs": [
    {
     "data": {
      "image/png": "[encoded data removed]",
      "text/plain": [
       "<Figure size 432x288 with 1 Axes>"
      ]
     },
     "metadata": {
      "needs_background": "light"
     },
     "output_type": "display_data"
    }
   ],
   "source": [
    "plt.plot(epoch_avg_train_losses, label='Training loss')\n",
    "plt.plot(epoch_avg_eval_losses, label='Validation loss')\n",
    "plt.legend(frameon=False)\n",
    "plt.show()"
   ]
  },
  {
   "cell_type": "markdown",
   "metadata": {},
   "source": [
    "### Test Loop"
   ]
  },
  {
   "cell_type": "code",
   "execution_count": 117,
   "metadata": {
    "ExecuteTime": {
     "end_time": "2020-09-21T09:58:40.466996Z",
     "start_time": "2020-09-21T09:58:40.464654Z"
    }
   },
   "outputs": [],
   "source": [
    "test_loss = 0.0\n",
    "class_correct = list(0. for i in range(43))\n",
    "class_total = list(0. for i in range(43))\n"
   ]
  },
  {
   "cell_type": "code",
   "execution_count": 118,
   "metadata": {
    "ExecuteTime": {
     "end_time": "2020-09-21T09:58:44.556756Z",
     "start_time": "2020-09-21T09:58:41.603208Z"
    }
   },
   "outputs": [],
   "source": [
    "for data, target in test_loader:\n",
    "    data = data.to(device)\n",
    "    target = target.to(device)\n",
    "    # forward pass: compute predicted outputs by passing inputs to the model\n",
    "    output = model(data)\n",
    "    # calculate the loss\n",
    "    loss = criterion(output, target)\n",
    "    # update test loss \n",
    "    test_loss += loss.item()*data.size(0)\n",
    "    # convert output probabilities to predicted class\n",
    "    _, pred = torch.max(output, 1)\n",
    "    # compare predictions to true label\n",
    "    correct = np.squeeze(pred.eq(target.data.view_as(pred)))\n",
    "    # calculate test accuracy for each object class\n",
    "    for i in range(len(target)):\n",
    "        label = target.data[i]\n",
    "        class_correct[label] += correct[i].item()\n",
    "        class_total[label] += 1"
   ]
  },
  {
   "cell_type": "code",
   "execution_count": 119,
   "metadata": {
    "ExecuteTime": {
     "end_time": "2020-09-21T09:58:45.631455Z",
     "start_time": "2020-09-21T09:58:45.625770Z"
    }
   },
   "outputs": [
    {
     "name": "stdout",
     "output_type": "stream",
     "text": [
      "tensor(3, device='cuda:0')\n"
     ]
    }
   ],
   "source": [
    "print(target.data[1])"
   ]
  },
  {
   "cell_type": "code",
   "execution_count": 120,
   "metadata": {
    "ExecuteTime": {
     "end_time": "2020-09-21T09:58:47.416365Z",
     "start_time": "2020-09-21T09:58:47.409597Z"
    }
   },
   "outputs": [
    {
     "name": "stdout",
     "output_type": "stream",
     "text": [
      "Test Loss: 0.037802\n",
      "\n",
      "Test Accuracy of     0: 95% (114/120)\n",
      "Test Accuracy of     1: 98% (2107/2130)\n",
      "Test Accuracy of     2: 98% (2138/2160)\n",
      "Test Accuracy of     3: 99% (1309/1320)\n",
      "Test Accuracy of     4: 98% (1869/1890)\n",
      "Test Accuracy of     5: 97% (1723/1770)\n",
      "Test Accuracy of     6: 99% (329/330)\n",
      "Test Accuracy of     7: 98% (1323/1350)\n",
      "Test Accuracy of     8: 98% (1300/1320)\n",
      "Test Accuracy of     9: 98% (1357/1380)\n",
      "Test Accuracy of    10: 99% (1917/1920)\n",
      "Test Accuracy of    11: 99% (1223/1230)\n",
      "Test Accuracy of    12: 99% (2009/2010)\n",
      "Test Accuracy of    13: 99% (2068/2070)\n",
      "Test Accuracy of    14: 100% (690/690)\n",
      "Test Accuracy of    15: 99% (535/540)\n",
      "Test Accuracy of    16: 99% (329/330)\n",
      "Test Accuracy of    17: 99% (1019/1020)\n",
      "Test Accuracy of    18: 99% (1101/1110)\n",
      "Test Accuracy of    19: 85% (102/120)\n",
      "Test Accuracy of    20: 94% (254/270)\n",
      "Test Accuracy of    21: 97% (235/240)\n",
      "Test Accuracy of    22: 100% (300/300)\n",
      "Test Accuracy of    23: 99% (417/420)\n",
      "Test Accuracy of    24: 97% (175/180)\n",
      "Test Accuracy of    25: 99% (1409/1410)\n",
      "Test Accuracy of    26: 97% (499/510)\n",
      "Test Accuracy of    27: 97% (146/150)\n",
      "Test Accuracy of    28: 98% (443/450)\n",
      "Test Accuracy of    29: 97% (176/180)\n",
      "Test Accuracy of    30: 98% (356/360)\n",
      "Test Accuracy of    31: 99% (686/690)\n",
      "Test Accuracy of    32: 96% (144/150)\n",
      "Test Accuracy of    33: 100% (599/599)\n",
      "Test Accuracy of    34: 99% (358/359)\n",
      "Test Accuracy of    35: 99% (1138/1139)\n",
      "Test Accuracy of    36: 99% (327/329)\n",
      "Test Accuracy of    37: 99% (148/149)\n",
      "Test Accuracy of    38: 99% (2007/2009)\n",
      "Test Accuracy of    39: 100% (239/239)\n",
      "Test Accuracy of    40: 98% (294/299)\n",
      "Test Accuracy of    41: 97% (174/179)\n",
      "Test Accuracy of    42: 100% (179/179)\n",
      "\n",
      "Test Accuracy (Overall): 99% (35265/35600)\n"
     ]
    }
   ],
   "source": [
    "# calculate and print avg test loss\n",
    "test_loss = test_loss/len(test_loader.sampler)\n",
    "print('Test Loss: {:.6f}\\n'.format(test_loss))\n",
    "\n",
    "for i in range(43):\n",
    "    if class_total[i] > 0:\n",
    "        print('Test Accuracy of %5s: %2d%% (%2d/%2d)' % (\n",
    "            str(i), 100 * class_correct[i] / class_total[i],\n",
    "            np.sum(class_correct[i]), np.sum(class_total[i])))\n",
    "    else:\n",
    "        print('Test Accuracy of %5s: N/A (no training examples)' % (classes[i]))\n",
    "\n",
    "print('\\nTest Accuracy (Overall): %2d%% (%2d/%2d)' % (\n",
    "    100. * np.sum(class_correct) / np.sum(class_total),\n",
    "    np.sum(class_correct), np.sum(class_total)))"
   ]
  },
  {
   "cell_type": "markdown",
   "metadata": {},
   "source": [
    "### Get Model Summary\n",
    "\n",
    "```python\n",
    "summary(your_model, input_size=(channels, H, W))\n",
    "```"
   ]
  },
  {
   "cell_type": "code",
   "execution_count": 121,
   "metadata": {
    "ExecuteTime": {
     "end_time": "2020-09-21T09:58:59.812136Z",
     "start_time": "2020-09-21T09:58:59.806645Z"
    }
   },
   "outputs": [
    {
     "name": "stdout",
     "output_type": "stream",
     "text": [
      "----------------------------------------------------------------\n",
      "        Layer (type)               Output Shape         Param #\n",
      "================================================================\n",
      "            Conv2d-1            [-1, 6, 28, 28]             456\n",
      "            Conv2d-2           [-1, 16, 10, 10]           2,416\n",
      "            Linear-3                  [-1, 120]          48,120\n",
      "           Dropout-4                  [-1, 120]               0\n",
      "            Linear-5                   [-1, 84]          10,164\n",
      "           Dropout-6                   [-1, 84]               0\n",
      "            Linear-7                   [-1, 43]           3,655\n",
      "        LogSoftmax-8                   [-1, 43]               0\n",
      "================================================================\n",
      "Total params: 64,811\n",
      "Trainable params: 64,811\n",
      "Non-trainable params: 0\n",
      "----------------------------------------------------------------\n",
      "Input size (MB): 0.01\n",
      "Forward/backward pass size (MB): 0.05\n",
      "Params size (MB): 0.25\n",
      "Estimated Total Size (MB): 0.31\n",
      "----------------------------------------------------------------\n"
     ]
    }
   ],
   "source": [
    "summary(model, input_size=(3, 32, 32))"
   ]
  },
  {
   "cell_type": "markdown",
   "metadata": {},
   "source": [
    "## Sample test"
   ]
  },
  {
   "cell_type": "markdown",
   "metadata": {},
   "source": [
    "### Get images from a batch"
   ]
  },
  {
   "cell_type": "code",
   "execution_count": 122,
   "metadata": {
    "ExecuteTime": {
     "end_time": "2020-09-21T09:59:08.486200Z",
     "start_time": "2020-09-21T09:59:08.290016Z"
    },
    "scrolled": true
   },
   "outputs": [],
   "source": [
    "batch_iter = iter(test_loader)\n",
    "images_batch, labels_batch = batch_iter.next()\n",
    "image = images_batch[0]\n",
    "image_tensor = image"
   ]
  },
  {
   "cell_type": "code",
   "execution_count": 123,
   "metadata": {
    "ExecuteTime": {
     "end_time": "2020-09-21T09:59:08.950492Z",
     "start_time": "2020-09-21T09:59:08.841106Z"
    }
   },
   "outputs": [
    {
     "name": "stderr",
     "output_type": "stream",
     "text": [
      "Clipping input data to the valid range for imshow with RGB data ([0..1] for floats or [0..255] for integers).\n"
     ]
    },
    {
     "data": {
      "image/png": "[encoded data removed]",
      "text/plain": [
       "<Figure size 432x288 with 1 Axes>"
      ]
     },
     "metadata": {
      "needs_background": "light"
     },
     "output_type": "display_data"
    }
   ],
   "source": [
    "image_numpy = image_tensor.numpy()\n",
    "image_numpy.shape\n",
    "\n",
    "image_reshaped = np.rollaxis(image_numpy,0,3)\n",
    "image_reshaped.shape\n",
    "\n",
    "\n",
    "img = np.array(image_reshaped)\n",
    "\n",
    "plt.imshow(img)\n",
    "plt.show()"
   ]
  },
  {
   "cell_type": "markdown",
   "metadata": {},
   "source": [
    "__Unnormalize the sample image__"
   ]
  },
  {
   "cell_type": "code",
   "execution_count": 124,
   "metadata": {
    "ExecuteTime": {
     "end_time": "2020-09-21T09:59:10.386326Z",
     "start_time": "2020-09-21T09:59:10.294698Z"
    },
    "scrolled": false
   },
   "outputs": [
    {
     "data": {
      "image/png": "[encoded data removed]",
      "text/plain": [
       "<Figure size 432x288 with 1 Axes>"
      ]
     },
     "metadata": {
      "needs_background": "light"
     },
     "output_type": "display_data"
    }
   ],
   "source": [
    "showImage(img)"
   ]
  },
  {
   "cell_type": "code",
   "execution_count": 125,
   "metadata": {
    "ExecuteTime": {
     "end_time": "2020-09-21T09:59:11.315916Z",
     "start_time": "2020-09-21T09:59:11.312649Z"
    }
   },
   "outputs": [
    {
     "data": {
      "text/plain": [
       "'Vehicles over 3.5 metric tons prohibited'"
      ]
     },
     "execution_count": 125,
     "metadata": {},
     "output_type": "execute_result"
    }
   ],
   "source": [
    "label = labels_batch[0].numpy()\n",
    "idx2label[int(label)]"
   ]
  },
  {
   "cell_type": "markdown",
   "metadata": {},
   "source": [
    "### Model Predictions"
   ]
  },
  {
   "cell_type": "markdown",
   "metadata": {},
   "source": [
    "__Send only one sampel to the model__"
   ]
  },
  {
   "cell_type": "code",
   "execution_count": 126,
   "metadata": {
    "ExecuteTime": {
     "end_time": "2020-09-21T09:59:20.754680Z",
     "start_time": "2020-09-21T09:59:20.734003Z"
    },
    "scrolled": true
   },
   "outputs": [
    {
     "data": {
      "text/plain": [
       "tensor(16, device='cuda:0')"
      ]
     },
     "execution_count": 126,
     "metadata": {},
     "output_type": "execute_result"
    }
   ],
   "source": [
    "image = image.to(device)\n",
    "\n",
    "output = model(image[None])\n",
    "\n",
    "_, predicted = torch.max(output.data, 1)\n",
    "predicted[0]"
   ]
  },
  {
   "cell_type": "markdown",
   "metadata": {},
   "source": [
    "__Get model Prediction__"
   ]
  },
  {
   "cell_type": "code",
   "execution_count": 127,
   "metadata": {
    "ExecuteTime": {
     "end_time": "2020-09-21T09:59:22.361326Z",
     "start_time": "2020-09-21T09:59:22.356785Z"
    }
   },
   "outputs": [
    {
     "data": {
      "text/plain": [
       "'Vehicles over 3.5 metric tons prohibited'"
      ]
     },
     "execution_count": 127,
     "metadata": {},
     "output_type": "execute_result"
    }
   ],
   "source": [
    "prediction = predicted[0].cpu()\n",
    "label = prediction.numpy()\n",
    "idx2label[int(label)]"
   ]
  },
  {
   "cell_type": "markdown",
   "metadata": {},
   "source": [
    "__Get Model Top5 Predictions__\n",
    "\n",
    "Prediction values are not normalized ([0, 1]) in the output, since we are using $Ln(Softmax(x))$ in the last layer to match the loss-function expected input."
   ]
  },
  {
   "cell_type": "code",
   "execution_count": 128,
   "metadata": {
    "ExecuteTime": {
     "end_time": "2020-09-21T09:59:29.334733Z",
     "start_time": "2020-09-21T09:59:29.330603Z"
    }
   },
   "outputs": [
    {
     "data": {
      "text/plain": [
       "torch.return_types.topk(\n",
       "values=tensor([  0.0000, -18.7643, -19.4702, -25.7209, -29.7032], device='cuda:0'),\n",
       "indices=tensor([16,  7,  9, 42, 10], device='cuda:0'))"
      ]
     },
     "execution_count": 128,
     "metadata": {},
     "output_type": "execute_result"
    }
   ],
   "source": [
    "top5_predictions = torch.topk(output.data[0], 5)\n",
    "top5_predictions"
   ]
  },
  {
   "cell_type": "markdown",
   "metadata": {},
   "source": [
    "__Get Softmax probabilities from the Top5 Predictions for the sample image__"
   ]
  },
  {
   "cell_type": "code",
   "execution_count": 129,
   "metadata": {
    "ExecuteTime": {
     "end_time": "2020-09-21T09:59:31.654842Z",
     "start_time": "2020-09-21T09:59:31.650599Z"
    },
    "scrolled": true
   },
   "outputs": [
    {
     "data": {
      "text/plain": [
       "[tensor(1.),\n",
       " tensor(6.4293e-11),\n",
       " tensor(3.7813e-11),\n",
       " tensor(4.6859e-13),\n",
       " tensor(2.0167e-13)]"
      ]
     },
     "execution_count": 129,
     "metadata": {},
     "output_type": "execute_result"
    }
   ],
   "source": [
    "top5_predictions_probs = [np.exp(i) for i in top_predictions[0].cpu()]\n",
    "top5_predictions_probs"
   ]
  },
  {
   "cell_type": "markdown",
   "metadata": {},
   "source": [
    "__Get Labels from the Top5 Predictions for the sample image__"
   ]
  },
  {
   "cell_type": "code",
   "execution_count": 130,
   "metadata": {
    "ExecuteTime": {
     "end_time": "2020-09-21T09:59:33.234178Z",
     "start_time": "2020-09-21T09:59:33.230702Z"
    }
   },
   "outputs": [
    {
     "data": {
      "text/plain": [
       "['Vehicles over 3.5 metric tons prohibited',\n",
       " 'Speed limit (100km/h)',\n",
       " 'No passing',\n",
       " 'End of no passing by vehicles over 3.5 metric tons',\n",
       " 'No passing for vehicles over 3.5 metric tons']"
      ]
     },
     "execution_count": 130,
     "metadata": {},
     "output_type": "execute_result"
    }
   ],
   "source": [
    "predictions = top5_predictions[1].cpu()\n",
    "preds = predictions.numpy()\n",
    "pred_labels = [idx2label[i] for i in preds]\n",
    "pred_labels"
   ]
  },
  {
   "cell_type": "markdown",
   "metadata": {
    "heading_collapsed": true
   },
   "source": [
    "#### Output Plot"
   ]
  },
  {
   "cell_type": "code",
   "execution_count": 59,
   "metadata": {
    "ExecuteTime": {
     "end_time": "2020-09-20T18:08:21.299882Z",
     "start_time": "2020-09-20T18:08:21.295897Z"
    },
    "hidden": true
   },
   "outputs": [],
   "source": [
    "def y_predict_model(Input_data, top_k=5):\n",
    "    \"\"\"\n",
    "    Generates the predictions of the model over the input data, and outputs the top softmax probabilities.\n",
    "        Parameters:\n",
    "            X_data: Input data.\n",
    "            top_k (Default = 5): The number of top softmax probabilities to be generated.\n",
    "    \"\"\"\n",
    "    num_examples = len(Input_data)\n",
    "    y_pred = np.zeros((num_examples, top_k), dtype=np.int32)\n",
    "    y_prob = np.zeros((num_examples, top_k))\n",
    "    with tf.Session() as sess:\n",
    "        VGGNet_Model.saver.restore(sess, os.path.join(DIR, \"VGGNet\"))\n",
    "        y_prob, y_pred = sess.run(tf.nn.top_k(tf.nn.softmax(VGGNet_Model.logits), k=top_k), \n",
    "                             feed_dict={x:Input_data, keep_prob:1, keep_prob_conv:1})\n",
    "    return y_prob, y_pred"
   ]
  },
  {
   "cell_type": "code",
   "execution_count": 131,
   "metadata": {
    "ExecuteTime": {
     "end_time": "2020-09-21T10:32:22.124412Z",
     "start_time": "2020-09-21T10:32:22.109547Z"
    },
    "hidden": true
   },
   "outputs": [
    {
     "ename": "NameError",
     "evalue": "name 'y_predict_model' is not defined",
     "output_type": "error",
     "traceback": [
      "\u001b[0;31m---------------------------------------------------------------------------\u001b[0m",
      "\u001b[0;31mNameError\u001b[0m                                 Traceback (most recent call last)",
      "\u001b[0;32m<ipython-input-131-702e7e325b69>\u001b[0m in \u001b[0;36m<module>\u001b[0;34m\u001b[0m\n\u001b[0;32m----> 1\u001b[0;31m \u001b[0my_prob\u001b[0m\u001b[0;34m,\u001b[0m \u001b[0my_pred\u001b[0m \u001b[0;34m=\u001b[0m \u001b[0my_predict_model\u001b[0m\u001b[0;34m(\u001b[0m\u001b[0mnew_test_images_preprocessed\u001b[0m\u001b[0;34m)\u001b[0m\u001b[0;34m\u001b[0m\u001b[0;34m\u001b[0m\u001b[0m\n\u001b[0m\u001b[1;32m      2\u001b[0m \u001b[0;34m\u001b[0m\u001b[0m\n\u001b[1;32m      3\u001b[0m \u001b[0mtest_accuracy\u001b[0m \u001b[0;34m=\u001b[0m \u001b[0;36m0\u001b[0m\u001b[0;34m\u001b[0m\u001b[0;34m\u001b[0m\u001b[0m\n\u001b[1;32m      4\u001b[0m \u001b[0;32mfor\u001b[0m \u001b[0mi\u001b[0m \u001b[0;32min\u001b[0m \u001b[0menumerate\u001b[0m\u001b[0;34m(\u001b[0m\u001b[0mnew_test_images_preprocessed\u001b[0m\u001b[0;34m)\u001b[0m\u001b[0;34m:\u001b[0m\u001b[0;34m\u001b[0m\u001b[0;34m\u001b[0m\u001b[0m\n\u001b[1;32m      5\u001b[0m     \u001b[0maccu\u001b[0m \u001b[0;34m=\u001b[0m \u001b[0mnew_IDs\u001b[0m\u001b[0;34m[\u001b[0m\u001b[0mi\u001b[0m\u001b[0;34m[\u001b[0m\u001b[0;36m0\u001b[0m\u001b[0;34m]\u001b[0m\u001b[0;34m]\u001b[0m \u001b[0;34m==\u001b[0m \u001b[0mnp\u001b[0m\u001b[0;34m.\u001b[0m\u001b[0masarray\u001b[0m\u001b[0;34m(\u001b[0m\u001b[0my_pred\u001b[0m\u001b[0;34m[\u001b[0m\u001b[0mi\u001b[0m\u001b[0;34m[\u001b[0m\u001b[0;36m0\u001b[0m\u001b[0;34m]\u001b[0m\u001b[0;34m]\u001b[0m\u001b[0;34m)\u001b[0m\u001b[0;34m[\u001b[0m\u001b[0;36m0\u001b[0m\u001b[0;34m]\u001b[0m\u001b[0;34m\u001b[0m\u001b[0;34m\u001b[0m\u001b[0m\n",
      "\u001b[0;31mNameError\u001b[0m: name 'y_predict_model' is not defined"
     ]
    }
   ],
   "source": [
    "y_prob, y_pred = y_predict_model(new_test_images_preprocessed)\n",
    "\n",
    "test_accuracy = 0\n",
    "for i in enumerate(new_test_images_preprocessed):\n",
    "    accu = new_IDs[i[0]] == np.asarray(y_pred[i[0]])[0]\n",
    "    if accu == True:\n",
    "        test_accuracy += 0.2\n",
    "print(\"New Images Test Accuracy = {:.1f}%\".format(test_accuracy*100))\n",
    "\n",
    "plt.figure(figsize=(15, 16))\n",
    "new_test_images_len=len(new_test_images_preprocessed)\n",
    "for i in range(new_test_images_len):\n",
    "    plt.subplot(new_test_images_len, 2, 2*i+1)\n",
    "    plt.imshow(new_test_images[i]) \n",
    "    plt.title(signs[y_pred[i][0]])\n",
    "    plt.axis('off')\n",
    "    plt.subplot(new_test_images_len, 2, 2*i+2)\n",
    "    plt.barh(np.arange(1, 6, 1), y_prob[i, :])\n",
    "    labels = [signs[j] for j in y_pred[i]]\n",
    "    plt.yticks(np.arange(1, 6, 1), labels)\n",
    "plt.show()"
   ]
  },
  {
   "cell_type": "markdown",
   "metadata": {},
   "source": [
    "## Monte-Carlo Dropout"
   ]
  },
  {
   "cell_type": "markdown",
   "metadata": {},
   "source": [
    "### Enable Dropout during testing"
   ]
  },
  {
   "cell_type": "code",
   "execution_count": 134,
   "metadata": {
    "ExecuteTime": {
     "end_time": "2020-09-21T10:40:17.147379Z",
     "start_time": "2020-09-21T10:40:17.145136Z"
    }
   },
   "outputs": [],
   "source": [
    "def apply_dropout(m):\n",
    "    if type(m) == nn.Dropout:\n",
    "        m.train()"
   ]
  },
  {
   "cell_type": "code",
   "execution_count": 133,
   "metadata": {
    "ExecuteTime": {
     "end_time": "2020-09-21T10:38:45.072335Z",
     "start_time": "2020-09-21T10:38:45.069187Z"
    }
   },
   "outputs": [
    {
     "data": {
      "text/plain": [
       "LeNetDropout(\n",
       "  (conv1): Conv2d(3, 6, kernel_size=(5, 5), stride=(1, 1))\n",
       "  (conv2): Conv2d(6, 16, kernel_size=(5, 5), stride=(1, 1))\n",
       "  (fc1): Linear(in_features=400, out_features=120, bias=True)\n",
       "  (fc2): Linear(in_features=120, out_features=84, bias=True)\n",
       "  (fc3): Linear(in_features=84, out_features=43, bias=True)\n",
       "  (dropout_05): Dropout(p=0.5, inplace=False)\n",
       "  (dropout_025): Dropout(p=0.25, inplace=False)\n",
       "  (softmax): LogSoftmax()\n",
       ")"
      ]
     },
     "execution_count": 133,
     "metadata": {},
     "output_type": "execute_result"
    }
   ],
   "source": [
    "# Apply dropout on testing \n",
    "model.apply(apply_dropout)"
   ]
  },
  {
   "cell_type": "markdown",
   "metadata": {},
   "source": [
    "### Define the Number of Stochastic Forward passes for each input sample"
   ]
  },
  {
   "cell_type": "code",
   "execution_count": 135,
   "metadata": {
    "ExecuteTime": {
     "end_time": "2020-09-21T10:40:40.221702Z",
     "start_time": "2020-09-21T10:40:40.216913Z"
    }
   },
   "outputs": [],
   "source": [
    "# Nro of Forward passes\n",
    "T = 20\n",
    "predictions = []"
   ]
  },
  {
   "cell_type": "markdown",
   "metadata": {},
   "source": [
    "### Predictions"
   ]
  },
  {
   "cell_type": "code",
   "execution_count": 147,
   "metadata": {
    "ExecuteTime": {
     "end_time": "2020-09-21T10:53:38.808064Z",
     "start_time": "2020-09-21T10:53:38.782140Z"
    }
   },
   "outputs": [
    {
     "data": {
      "text/plain": [
       "[torch.return_types.max(\n",
       " values=tensor([0.], device='cuda:0'),\n",
       " indices=tensor([16], device='cuda:0')),\n",
       " torch.return_types.max(\n",
       " values=tensor([-0.0026], device='cuda:0'),\n",
       " indices=tensor([16], device='cuda:0')),\n",
       " torch.return_types.max(\n",
       " values=tensor([-9.9182e-05], device='cuda:0'),\n",
       " indices=tensor([16], device='cuda:0')),\n",
       " torch.return_types.max(\n",
       " values=tensor([0.], device='cuda:0'),\n",
       " indices=tensor([16], device='cuda:0')),\n",
       " torch.return_types.max(\n",
       " values=tensor([0.], device='cuda:0'),\n",
       " indices=tensor([16], device='cuda:0')),\n",
       " torch.return_types.max(\n",
       " values=tensor([-0.0031], device='cuda:0'),\n",
       " indices=tensor([16], device='cuda:0')),\n",
       " torch.return_types.max(\n",
       " values=tensor([-0.0198], device='cuda:0'),\n",
       " indices=tensor([16], device='cuda:0')),\n",
       " torch.return_types.max(\n",
       " values=tensor([0.], device='cuda:0'),\n",
       " indices=tensor([16], device='cuda:0')),\n",
       " torch.return_types.max(\n",
       " values=tensor([-0.0024], device='cuda:0'),\n",
       " indices=tensor([16], device='cuda:0')),\n",
       " torch.return_types.max(\n",
       " values=tensor([-0.0030], device='cuda:0'),\n",
       " indices=tensor([16], device='cuda:0')),\n",
       " torch.return_types.max(\n",
       " values=tensor([-2.6703e-05], device='cuda:0'),\n",
       " indices=tensor([16], device='cuda:0')),\n",
       " torch.return_types.max(\n",
       " values=tensor([-0.2733], device='cuda:0'),\n",
       " indices=tensor([16], device='cuda:0')),\n",
       " torch.return_types.max(\n",
       " values=tensor([-1.3351e-05], device='cuda:0'),\n",
       " indices=tensor([16], device='cuda:0')),\n",
       " torch.return_types.max(\n",
       " values=tensor([0.], device='cuda:0'),\n",
       " indices=tensor([16], device='cuda:0')),\n",
       " torch.return_types.max(\n",
       " values=tensor([0.], device='cuda:0'),\n",
       " indices=tensor([16], device='cuda:0')),\n",
       " torch.return_types.max(\n",
       " values=tensor([0.], device='cuda:0'),\n",
       " indices=tensor([16], device='cuda:0')),\n",
       " torch.return_types.max(\n",
       " values=tensor([-0.2328], device='cuda:0'),\n",
       " indices=tensor([16], device='cuda:0')),\n",
       " torch.return_types.max(\n",
       " values=tensor([0.], device='cuda:0'),\n",
       " indices=tensor([16], device='cuda:0')),\n",
       " torch.return_types.max(\n",
       " values=tensor([-7.6294e-06], device='cuda:0'),\n",
       " indices=tensor([16], device='cuda:0')),\n",
       " torch.return_types.max(\n",
       " values=tensor([-0.0014], device='cuda:0'),\n",
       " indices=tensor([16], device='cuda:0'))]"
      ]
     },
     "execution_count": 147,
     "metadata": {},
     "output_type": "execute_result"
    }
   ],
   "source": [
    "predictionValuesFWPass = [torch.max(model(image[None]).data, 1) for t in range(T)]\n",
    "predictionValuesFWPass"
   ]
  },
  {
   "cell_type": "code",
   "execution_count": 142,
   "metadata": {
    "ExecuteTime": {
     "end_time": "2020-09-21T10:49:35.379694Z",
     "start_time": "2020-09-21T10:49:35.375266Z"
    }
   },
   "outputs": [
    {
     "data": {
      "text/plain": [
       "'Vehicles over 3.5 metric tons prohibited'"
      ]
     },
     "execution_count": 142,
     "metadata": {},
     "output_type": "execute_result"
    }
   ],
   "source": [
    "image = image.to(device)\n",
    "\n",
    "output = model(image[None])\n",
    "\n",
    "_, predicted = torch.max(output.data, 1)\n",
    "predicted[0]\n",
    "\n",
    "prediction = predicted[0].cpu()\n",
    "label = prediction.numpy()\n",
    "idx2label[int(label)]"
   ]
  },
  {
   "cell_type": "code",
   "execution_count": null,
   "metadata": {},
   "outputs": [],
   "source": []
  }
 ],
 "metadata": {
  "kernelspec": {
   "display_name": "UncertaintyDNN",
   "language": "python",
   "name": "uncertaintydnn"
  },
  "language_info": {
   "codemirror_mode": {
    "name": "ipython",
    "version": 3
   },
   "file_extension": ".py",
   "mimetype": "text/x-python",
   "name": "python",
   "nbconvert_exporter": "python",
   "pygments_lexer": "ipython3",
   "version": "3.6.9"
  },
  "toc": {
   "base_numbering": 1,
   "nav_menu": {},
   "number_sections": true,
   "sideBar": true,
   "skip_h1_title": false,
   "title_cell": "Table of Contents",
   "title_sidebar": "Contents",
   "toc_cell": false,
   "toc_position": {
    "height": "calc(100% - 180px)",
    "left": "10px",
    "top": "150px",
    "width": "373px"
   },
   "toc_section_display": true,
   "toc_window_display": true
  }
 },
 "nbformat": 4,
 "nbformat_minor": 4
}
